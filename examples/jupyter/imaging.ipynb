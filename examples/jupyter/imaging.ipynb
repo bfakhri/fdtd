{
 "cells": [
  {
   "cell_type": "code",
   "execution_count": null,
   "id": "13a22223",
   "metadata": {},
   "outputs": [],
   "source": [
    "#!/usr/bin/env python\n",
    "\n",
    "import sys\n",
    "sys.path.append('/home/bij/Projects/fdtd/')\n",
    "import fdtd\n",
    "import fdtd.backend as bd\n",
    "import matplotlib.pyplot as plt\n",
    "\n",
    "\n",
    "# ## Set Backend\n",
    "#fdtd.set_backend(\"numpy\")\n",
    "fdtd.set_backend(\"torch\")\n",
    "\n",
    "\n",
    "# ## Constants\n",
    "WAVELENGTH = 1550e-9\n",
    "WAVELENGTH2 = 1550e-8\n",
    "SPEED_LIGHT: float = 299_792_458.0  # [m/s] speed of light\n",
    "\n",
    "\n",
    "# ## Simulation\n",
    "\n",
    "# create FDTD Grid\n",
    "\n",
    "# In[4]:\n",
    "\n",
    "\n",
    "grid = fdtd.Grid(\n",
    "    (1.5e-5, 1.5e-5, 1),\n",
    "    grid_spacing=0.1 * WAVELENGTH,\n",
    "    permittivity=1.0,\n",
    "    permeability=1.0,\n",
    ")\n",
    "\n",
    "print('Grid Shape: ', grid.shape)\n",
    "\n",
    "\n",
    "# boundaries\n",
    "\n",
    "# In[5]:\n",
    "\n",
    "\n",
    "# grid[0, :, :] = fdtd.PeriodicBoundary(name=\"xbounds\")\n",
    "grid[0:10, :, :] = fdtd.PML(name=\"pml_xlow\")\n",
    "grid[-10:, :, :] = fdtd.PML(name=\"pml_xhigh\")\n",
    "\n",
    "# grid[:, 0, :] = fdtd.PeriodicBoundary(name=\"ybounds\")\n",
    "grid[:, 0:10, :] = fdtd.PML(name=\"pml_ylow\")\n",
    "grid[:, -10:, :] = fdtd.PML(name=\"pml_yhigh\")\n",
    "\n",
    "grid[:, :, 0] = fdtd.PeriodicBoundary(name=\"zbounds\")\n",
    "\n",
    "\n",
    "# sources\n",
    "\n",
    "grid[20, 25, 0] = fdtd.PointSource(\n",
    "    period=WAVELENGTH / SPEED_LIGHT, name=\"linesource0\", amplitude=1,\n",
    ")\n",
    "#grid[20, -25, 0] = fdtd.PointSource(\n",
    "#    period=WAVELENGTH / SPEED_LIGHT, name=\"linesource1\", pulse=True, cycle=5193414489032258,\n",
    "#)\n",
    "grid[20, -25, 0] = fdtd.PointSource(\n",
    "    period=WAVELENGTH / SPEED_LIGHT, name=\"linesource1\", delay=10,\n",
    ")\n",
    "\n",
    "\n",
    "# detectors\n",
    "\n",
    "# grid[12e-6, :, 0] = fdtd.LineDetector(name=\"detector\")\n",
    "\n",
    "\n",
    "# objects\n",
    "\n",
    "# ## Run simulation\n",
    "\n",
    "grid_E_energies = None\n",
    "grid.visualize(z=0, animate=True)\n",
    "for i in range(1000):\n",
    "    grid.run(1, progress_bar=False)\n",
    "    grid_energy_E, grid_energy_H = grid.visualize(z=0, norm='linear', animate=True)\n",
    "    if(i == 0):\n",
    "        grid_E_energies = grid_energy_E\n",
    "    else:\n",
    "        grid_E_energies += grid_energy_E\n",
    "    plt.show()\n"
   ]
  },
  {
   "cell_type": "code",
   "execution_count": null,
   "id": "6cf448f4",
   "metadata": {},
   "outputs": [],
   "source": [
    "grid_E_energies"
   ]
  },
  {
   "cell_type": "code",
   "execution_count": null,
   "id": "dac03d75",
   "metadata": {},
   "outputs": [],
   "source": [
    "plt.imshow(bd.numpy(grid_E_energies))\n",
    "plt.savefig('foo.png')\n"
   ]
  },
  {
   "cell_type": "code",
   "execution_count": null,
   "id": "58c8f84c",
   "metadata": {},
   "outputs": [],
   "source": [
    "for shift in range(0, 14):\n",
    "    grid = fdtd.Grid(\n",
    "        (1.5e-5, 1.5e-5, 1),\n",
    "        grid_spacing=0.1 * WAVELENGTH,\n",
    "        permittivity=1.0,\n",
    "        permeability=1.0,\n",
    "    )\n",
    "    grid[0:10, :, :] = fdtd.PML(name=\"pml_xlow\")\n",
    "    grid[-10:, :, :] = fdtd.PML(name=\"pml_xhigh\")\n",
    "    grid[:, 0:10, :] = fdtd.PML(name=\"pml_ylow\")\n",
    "    grid[:, -10:, :] = fdtd.PML(name=\"pml_yhigh\")\n",
    "    grid[:, :, 0] = fdtd.PeriodicBoundary(name=\"zbounds\")\n",
    "    \n",
    "    y_mid, x_mid = grid.shape[0]//2, grid.shape[1]//2\n",
    "    \n",
    "    grid[y_mid, 25, 0] = fdtd.PointSource(\n",
    "        period=WAVELENGTH / SPEED_LIGHT, name=\"linesource0\", amplitude=1,\n",
    "    )\n",
    "    grid[y_mid, -25, 0] = fdtd.PointSource(\n",
    "        period=WAVELENGTH / SPEED_LIGHT, name=\"linesource1\", delay=shift,\n",
    "    )\n",
    "\n",
    "    grid_E_energies = None\n",
    "    grid.visualize(z=0, animate=True)\n",
    "    for i in range(100):\n",
    "        grid.run(1, progress_bar=False)\n",
    "        grid_energy_E, grid_energy_H = grid.visualize(z=0, norm='linear', animate=True)\n",
    "        if(i == 0):\n",
    "            grid_E_energies = grid_energy_E\n",
    "        else:\n",
    "            grid_E_energies += grid_energy_E\n",
    "        #plt.show()\n",
    "    plt.imshow(bd.numpy(grid_E_energies))\n",
    "    plt.savefig('avg_energy_shift_mid={0}.png'.format(shift))\n"
   ]
  },
  {
   "cell_type": "code",
   "execution_count": null,
   "id": "d5697e59",
   "metadata": {},
   "outputs": [],
   "source": []
  },
  {
   "cell_type": "code",
   "execution_count": null,
   "id": "bc3188b5",
   "metadata": {},
   "outputs": [],
   "source": []
  },
  {
   "cell_type": "code",
   "execution_count": null,
   "id": "7c65f661",
   "metadata": {},
   "outputs": [],
   "source": []
  },
  {
   "cell_type": "code",
   "execution_count": null,
   "id": "72d49b63",
   "metadata": {},
   "outputs": [],
   "source": []
  },
  {
   "cell_type": "code",
   "execution_count": null,
   "id": "f7ae1e13",
   "metadata": {},
   "outputs": [],
   "source": []
  },
  {
   "cell_type": "code",
   "execution_count": null,
   "id": "593d3ffc",
   "metadata": {},
   "outputs": [],
   "source": []
  },
  {
   "cell_type": "code",
   "execution_count": null,
   "id": "bdf1795c",
   "metadata": {},
   "outputs": [],
   "source": []
  },
  {
   "cell_type": "code",
   "execution_count": null,
   "id": "94782d7a",
   "metadata": {},
   "outputs": [],
   "source": []
  },
  {
   "cell_type": "code",
   "execution_count": null,
   "id": "e593d095",
   "metadata": {},
   "outputs": [],
   "source": []
  },
  {
   "cell_type": "code",
   "execution_count": null,
   "id": "e1b46870",
   "metadata": {},
   "outputs": [],
   "source": []
  },
  {
   "cell_type": "code",
   "execution_count": null,
   "id": "afca193c",
   "metadata": {},
   "outputs": [],
   "source": []
  },
  {
   "cell_type": "code",
   "execution_count": null,
   "id": "64a93547",
   "metadata": {},
   "outputs": [],
   "source": []
  },
  {
   "cell_type": "code",
   "execution_count": null,
   "id": "a4fa8816",
   "metadata": {},
   "outputs": [],
   "source": []
  },
  {
   "cell_type": "code",
   "execution_count": null,
   "id": "b1015fa4",
   "metadata": {},
   "outputs": [],
   "source": []
  },
  {
   "cell_type": "code",
   "execution_count": null,
   "id": "e0d470b4",
   "metadata": {},
   "outputs": [],
   "source": []
  },
  {
   "cell_type": "code",
   "execution_count": null,
   "id": "ca31fcc6",
   "metadata": {},
   "outputs": [],
   "source": []
  },
  {
   "cell_type": "code",
   "execution_count": null,
   "id": "9450ce04",
   "metadata": {},
   "outputs": [],
   "source": []
  },
  {
   "cell_type": "code",
   "execution_count": null,
   "id": "48ad5ef5",
   "metadata": {},
   "outputs": [],
   "source": []
  },
  {
   "cell_type": "code",
   "execution_count": null,
   "id": "b0650592",
   "metadata": {},
   "outputs": [],
   "source": []
  }
 ],
 "metadata": {
  "kernelspec": {
   "display_name": "Python 3 (ipykernel)",
   "language": "python",
   "name": "python3"
  },
  "language_info": {
   "codemirror_mode": {
    "name": "ipython",
    "version": 3
   },
   "file_extension": ".py",
   "mimetype": "text/x-python",
   "name": "python",
   "nbconvert_exporter": "python",
   "pygments_lexer": "ipython3",
   "version": "3.10.8"
  }
 },
 "nbformat": 4,
 "nbformat_minor": 5
}
