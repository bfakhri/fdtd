{
 "cells": [
  {
   "cell_type": "markdown",
   "id": "enabling-default",
   "metadata": {},
   "source": [
    "# 01. Basic Example\n",
    "A simple example on how to use the FDTD Library"
   ]
  },
  {
   "cell_type": "markdown",
   "id": "academic-rough",
   "metadata": {},
   "source": [
    "## Imports"
   ]
  },
  {
   "cell_type": "code",
   "execution_count": 1,
   "id": "tracked-hindu",
   "metadata": {},
   "outputs": [],
   "source": [
    "import matplotlib.pyplot as plt\n",
    "import sys\n",
    "sys.path.append('/home/bij/Projects/fdtd/')\n",
    "import fdtd\n",
    "import fdtd.backend as bd"
   ]
  },
  {
   "cell_type": "markdown",
   "id": "upset-drain",
   "metadata": {},
   "source": [
    "## Set Backend"
   ]
  },
  {
   "cell_type": "code",
   "execution_count": 2,
   "id": "breathing-belief",
   "metadata": {},
   "outputs": [],
   "source": [
    "fdtd.set_backend(\"torch\")"
   ]
  },
  {
   "cell_type": "markdown",
   "id": "copyrighted-custody",
   "metadata": {},
   "source": [
    "## Constants"
   ]
  },
  {
   "cell_type": "code",
   "execution_count": 3,
   "id": "unlike-perfume",
   "metadata": {},
   "outputs": [],
   "source": [
    "WAVELENGTH = 1550e-9\n",
    "SPEED_LIGHT: float = 299_792_458.0  # [m/s] speed of light"
   ]
  },
  {
   "cell_type": "markdown",
   "id": "fourth-vocabulary",
   "metadata": {},
   "source": [
    "## Simulation"
   ]
  },
  {
   "cell_type": "markdown",
   "id": "desirable-thread",
   "metadata": {},
   "source": [
    "create FDTD Grid"
   ]
  },
  {
   "cell_type": "code",
   "execution_count": 4,
   "id": "vertical-south",
   "metadata": {},
   "outputs": [
    {
     "data": {
      "text/plain": [
       "(1935, 48, 48)"
      ]
     },
     "execution_count": 4,
     "metadata": {},
     "output_type": "execute_result"
    }
   ],
   "source": [
    "grid = fdtd.Grid(\n",
    "    #(8.5e-6, 8.5e-6, 8.5e-6), \n",
    "    #(1.5e-5, 1.5e-5, 1.5e-5),\n",
    "    #(3.5e-6, 3.5e-6, 3.5e-6),\n",
    "    #(1.5e-6, 1.5e-6, 1.5e-6),\n",
    "    #(3.5e-6, 1.0e-6, 1.0e-6),\n",
    "    #(3.0e-6, 0.75e-6, 0.75e-6),\n",
    "    #(3.0e-5, 0.5e-6, 0.5e-6),\n",
    "    (3.0e-5, 0.75e-6, 0.75e-6),\n",
    "    grid_spacing=0.01 * WAVELENGTH,\n",
    "    permittivity=1.0,\n",
    "    permeability=1.0,\n",
    ")\n",
    "grid.shape"
   ]
  },
  {
   "cell_type": "markdown",
   "id": "balanced-motel",
   "metadata": {},
   "source": [
    "boundaries"
   ]
  },
  {
   "cell_type": "code",
   "execution_count": 5,
   "id": "ordered-message",
   "metadata": {},
   "outputs": [],
   "source": [
    "# grid[0, :, :] = fdtd.PeriodicBoundary(name=\"xbounds\")\n",
    "grid[0:10, :, :] = fdtd.PML(name=\"pml_xlow\")\n",
    "grid[-10:, :, :] = fdtd.PML(name=\"pml_xhigh\")\n",
    "\n",
    "# grid[:, 0, :] = fdtd.PeriodicBoundary(name=\"ybounds\")\n",
    "grid[:, 0:10, :] = fdtd.PML(name=\"pml_ylow\")\n",
    "grid[:, -10:, :] = fdtd.PML(name=\"pml_yhigh\")\n",
    "\n",
    "#grid[:, :, 0] = fdtd.PeriodicBoundary(name=\"zbounds\")\n",
    "grid[:, :, 0:10] = fdtd.PML(name=\"pml_zlow\")\n",
    "grid[:, :, -10:] = fdtd.PML(name=\"pml_zhigh\")"
   ]
  },
  {
   "cell_type": "markdown",
   "id": "interesting-onion",
   "metadata": {},
   "source": [
    "sources"
   ]
  },
  {
   "cell_type": "code",
   "execution_count": 6,
   "id": "official-happening",
   "metadata": {},
   "outputs": [],
   "source": [
    "grid[11, :, :] = fdtd.PlaneSource(\n",
    "    period=WAVELENGTH / SPEED_LIGHT, name=\"planesource_0\", polarization='y'\n",
    ")\n",
    "grid[15, :, :] = fdtd.PlaneSource(\n",
    "    period=WAVELENGTH / SPEED_LIGHT, name=\"planesource_1\", polarization='y'\n",
    ")\n"
   ]
  },
  {
   "cell_type": "markdown",
   "id": "facial-giant",
   "metadata": {},
   "source": [
    "detectors"
   ]
  },
  {
   "cell_type": "code",
   "execution_count": 7,
   "id": "included-cherry",
   "metadata": {},
   "outputs": [],
   "source": [
    "grid[:, grid.shape[1]//2, grid.shape[2]//2] = fdtd.LineDetector(name=\"detector\")"
   ]
  },
  {
   "cell_type": "markdown",
   "id": "chronic-surprise",
   "metadata": {},
   "source": []
  },
  {
   "cell_type": "code",
   "execution_count": null,
   "id": "corresponding-consequence",
   "metadata": {},
   "outputs": [],
   "source": []
  },
  {
   "cell_type": "markdown",
   "id": "separate-variance",
   "metadata": {},
   "source": [
    "## Run simulation"
   ]
  },
  {
   "cell_type": "code",
   "execution_count": null,
   "id": "genuine-audience",
   "metadata": {},
   "outputs": [
    {
     "name": "stderr",
     "output_type": "stream",
     "text": [
      "  7%|███████▌                                                                                                          | 200/3000 [01:50<26:19,  1.77it/s]"
     ]
    }
   ],
   "source": [
    "grid.run(3000, progress_bar=True)"
   ]
  },
  {
   "cell_type": "markdown",
   "id": "norman-bulgarian",
   "metadata": {},
   "source": [
    "## Visualization"
   ]
  },
  {
   "cell_type": "code",
   "execution_count": null,
   "id": "purple-generic",
   "metadata": {},
   "outputs": [],
   "source": [
    "fig, axes = plt.subplots(2, 3, squeeze=False)\n",
    "titles = [\"Ex: xy\", \"Ey: xy\", \"Ez: xy\", \"Hx: xy\", \"Hy: xy\", \"Hz: xy\"]\n",
    "\n",
    "fields = bd.stack(\n",
    "    [\n",
    "        grid.E[:, :, 0, 0],\n",
    "        grid.E[:, :, 0, 1],\n",
    "        grid.E[:, :, 0, 2],\n",
    "        grid.H[:, :, 0, 0],\n",
    "        grid.H[:, :, 0, 1],\n",
    "        grid.H[:, :, 0, 2],\n",
    "    ]\n",
    ")\n",
    "\n",
    "m = max(abs(fields.min().item()), abs(fields.max().item()))\n",
    "\n",
    "for ax, field, title in zip(axes.ravel(), fields, titles):\n",
    "    ax.set_axis_off()\n",
    "    ax.set_title(title)\n",
    "    ax.imshow(bd.numpy(field), vmin=-m, vmax=m, cmap=\"RdBu\")\n",
    "\n",
    "plt.show()"
   ]
  },
  {
   "cell_type": "code",
   "execution_count": null,
   "id": "hearing-kelly",
   "metadata": {},
   "outputs": [],
   "source": [
    "plt.figure()\n",
    "grid.visualize(z=0)"
   ]
  },
  {
   "cell_type": "code",
   "execution_count": null,
   "id": "72662727",
   "metadata": {},
   "outputs": [],
   "source": [
    "Hs = bd.stack(grid.detectors[0].H, axis=0)\n",
    "Es = bd.stack(grid.detectors[0].E, axis=0)\n",
    "print(Hs.shape, Es.shape)"
   ]
  },
  {
   "cell_type": "code",
   "execution_count": null,
   "id": "fc112d7e",
   "metadata": {},
   "outputs": [],
   "source": []
  },
  {
   "cell_type": "code",
   "execution_count": null,
   "id": "f2403988",
   "metadata": {},
   "outputs": [],
   "source": []
  },
  {
   "cell_type": "code",
   "execution_count": null,
   "id": "6bbefbde",
   "metadata": {},
   "outputs": [],
   "source": []
  },
  {
   "cell_type": "code",
   "execution_count": null,
   "id": "f8f7c27a",
   "metadata": {},
   "outputs": [],
   "source": []
  },
  {
   "cell_type": "code",
   "execution_count": null,
   "id": "19f924d5",
   "metadata": {},
   "outputs": [],
   "source": []
  },
  {
   "cell_type": "code",
   "execution_count": null,
   "id": "f747ab33",
   "metadata": {},
   "outputs": [],
   "source": [
    "import numpy as np\n",
    "import matplotlib.pyplot as plt\n",
    "from mpl_toolkits.mplot3d import Axes3D\n",
    "\n",
    "def plot_EH_3d_vectors(E_vectors, H_vectors, scale=1.0):\n",
    "    fig = plt.figure(figsize=(12,12))\n",
    "    ax = fig.add_subplot(111, projection='3d')\n",
    "    \n",
    "    def normalize_and_plot(vectors, color):\n",
    "        # Normalize vectors\n",
    "        normalized_vectors = vectors / np.max([np.linalg.norm(v) for v in vectors])\n",
    "\n",
    "        # Extract x, y, z components of each normalized vector\n",
    "        x = [v[0] for v in normalized_vectors]\n",
    "        y = [v[1] for v in normalized_vectors]\n",
    "        z = [v[2] for v in normalized_vectors]\n",
    "\n",
    "        # Plot the vectors\n",
    "        ax.quiver(np.arange(len(x))/len(x), 0, 0, x, y, z, length=scale, arrow_length_ratio=0.05, colors=color)\n",
    "\n",
    "    normalize_and_plot(E_vectors, color='red')\n",
    "    normalize_and_plot(H_vectors, color='blue')\n",
    "        \n",
    "    # Set limits for the axes\n",
    "    #ax.set_xlim([-scale, scale])\n",
    "    ax.set_xlim([0, scale])\n",
    "    ax.set_ylim([-scale, scale])\n",
    "    ax.set_zlim([-scale, scale])\n",
    "\n",
    "    # Set labels and title\n",
    "    ax.set_xlabel('X')\n",
    "    ax.set_ylabel('Y')\n",
    "    ax.set_zlabel('Z')\n",
    "    ax.set_title('Normalized 3D Vector Plot')\n",
    "\n",
    "    plt.show()\n",
    "\n",
    "plot_EH_3d_vectors(Es[-1, ::2, :], Hs[-1, ::2, :])"
   ]
  },
  {
   "cell_type": "code",
   "execution_count": null,
   "id": "a161390a",
   "metadata": {},
   "outputs": [],
   "source": []
  },
  {
   "cell_type": "code",
   "execution_count": null,
   "id": "5fb794b9",
   "metadata": {},
   "outputs": [],
   "source": []
  },
  {
   "cell_type": "code",
   "execution_count": null,
   "id": "3af03d5d",
   "metadata": {},
   "outputs": [],
   "source": []
  },
  {
   "cell_type": "code",
   "execution_count": null,
   "id": "eb1d8f84",
   "metadata": {},
   "outputs": [],
   "source": []
  },
  {
   "cell_type": "code",
   "execution_count": null,
   "id": "b8a54a75",
   "metadata": {},
   "outputs": [],
   "source": []
  },
  {
   "cell_type": "code",
   "execution_count": null,
   "id": "e5531f55",
   "metadata": {},
   "outputs": [],
   "source": []
  },
  {
   "cell_type": "code",
   "execution_count": null,
   "id": "a6f70bce",
   "metadata": {},
   "outputs": [],
   "source": []
  },
  {
   "cell_type": "code",
   "execution_count": null,
   "id": "b1360106",
   "metadata": {},
   "outputs": [],
   "source": []
  },
  {
   "cell_type": "code",
   "execution_count": null,
   "id": "2f0acdf8",
   "metadata": {},
   "outputs": [],
   "source": []
  },
  {
   "cell_type": "code",
   "execution_count": null,
   "id": "61e8549b",
   "metadata": {},
   "outputs": [],
   "source": []
  },
  {
   "cell_type": "code",
   "execution_count": null,
   "id": "8e98ae89",
   "metadata": {},
   "outputs": [],
   "source": []
  },
  {
   "cell_type": "code",
   "execution_count": null,
   "id": "f08ec7e6",
   "metadata": {},
   "outputs": [],
   "source": []
  },
  {
   "cell_type": "code",
   "execution_count": null,
   "id": "93142185",
   "metadata": {},
   "outputs": [],
   "source": []
  },
  {
   "cell_type": "code",
   "execution_count": null,
   "id": "2b6bd03b",
   "metadata": {},
   "outputs": [],
   "source": []
  },
  {
   "cell_type": "code",
   "execution_count": null,
   "id": "93bb57c6",
   "metadata": {},
   "outputs": [],
   "source": []
  },
  {
   "cell_type": "code",
   "execution_count": null,
   "id": "bbe8a733",
   "metadata": {},
   "outputs": [],
   "source": []
  },
  {
   "cell_type": "code",
   "execution_count": null,
   "id": "2935e7f2",
   "metadata": {},
   "outputs": [],
   "source": []
  },
  {
   "cell_type": "code",
   "execution_count": null,
   "id": "6b8f8457",
   "metadata": {},
   "outputs": [],
   "source": []
  }
 ],
 "metadata": {
  "kernelspec": {
   "display_name": "Python 3 (ipykernel)",
   "language": "python",
   "name": "python3"
  },
  "language_info": {
   "codemirror_mode": {
    "name": "ipython",
    "version": 3
   },
   "file_extension": ".py",
   "mimetype": "text/x-python",
   "name": "python",
   "nbconvert_exporter": "python",
   "pygments_lexer": "ipython3",
   "version": "3.10.8"
  }
 },
 "nbformat": 4,
 "nbformat_minor": 5
}
