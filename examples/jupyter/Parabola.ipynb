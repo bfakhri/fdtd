{
 "cells": [
  {
   "cell_type": "markdown",
   "id": "enabling-default",
   "metadata": {},
   "source": []
  },
  {
   "cell_type": "markdown",
   "id": "academic-rough",
   "metadata": {},
   "source": [
    "## Imports"
   ]
  },
  {
   "cell_type": "code",
   "execution_count": 1,
   "id": "tracked-hindu",
   "metadata": {},
   "outputs": [],
   "source": [
    "import matplotlib.pyplot as plt\n",
    "import sys\n",
    "sys.path.append('/home/bij/Projects/fdtd/')\n",
    "import fdtd\n",
    "import fdtd.backend as bd\n",
    "import numpy as np\n",
    "import matplotlib.pyplot as plt\n",
    "from mpl_toolkits.mplot3d import Axes3D"
   ]
  },
  {
   "cell_type": "markdown",
   "id": "upset-drain",
   "metadata": {},
   "source": [
    "## Set Grid"
   ]
  },
  {
   "cell_type": "markdown",
   "id": "fourth-vocabulary",
   "metadata": {},
   "source": [
    "## Functions"
   ]
  },
  {
   "cell_type": "code",
   "execution_count": 2,
   "id": "93142185",
   "metadata": {},
   "outputs": [],
   "source": [
    "h, w = (600, 600)\n",
    "y_mid, x_mid = (w//2, h//2)"
   ]
  },
  {
   "cell_type": "code",
   "execution_count": 5,
   "id": "2b6bd03b",
   "metadata": {},
   "outputs": [],
   "source": [
    "img = np.zeros((h, w))\n",
    "img_coords = np.zeros((h, w, 2))"
   ]
  },
  {
   "cell_type": "code",
   "execution_count": 6,
   "id": "93bb57c6",
   "metadata": {},
   "outputs": [],
   "source": [
    "for i in range(h):\n",
    "    for j in range(w):\n",
    "        img_coords[i, j, 0] = i\n",
    "        img_coords[i, j, 1] = j"
   ]
  },
  {
   "cell_type": "code",
   "execution_count": 9,
   "id": "bbe8a733",
   "metadata": {},
   "outputs": [
    {
     "data": {
      "text/plain": [
       "array([1., 0.])"
      ]
     },
     "execution_count": 9,
     "metadata": {},
     "output_type": "execute_result"
    }
   ],
   "source": [
    "img_coords[1,0]"
   ]
  },
  {
   "cell_type": "code",
   "execution_count": 124,
   "id": "2935e7f2",
   "metadata": {},
   "outputs": [
    {
     "data": {
      "text/plain": [
       "<matplotlib.image.AxesImage at 0x7f847df41ea0>"
      ]
     },
     "execution_count": 124,
     "metadata": {},
     "output_type": "execute_result"
    },
    {
     "data": {
      "image/png": "[encoded data removed]",
      "text/plain": [
       "<Figure size 640x480 with 1 Axes>"
      ]
     },
     "metadata": {},
     "output_type": "display_data"
    }
   ],
   "source": [
    "nx, ny = (601, 601)\n",
    "x = np.linspace(-1, 1, nx)\n",
    "y = np.linspace(0, 2, ny)\n",
    "xv, yv = np.meshgrid(x, y)\n",
    "img_coords = np.stack([yv, xv], axis=-1)\n",
    "#img = np.sqrt(img_coords[..., 0]**2 + img_coords[..., 1]**2) > 1.0\n",
    "img = img_coords[..., 0] < img_coords[..., 1]**2\n",
    "plt.imshow(img)"
   ]
  },
  {
   "cell_type": "code",
   "execution_count": 117,
   "id": "6b8f8457",
   "metadata": {
    "scrolled": true
   },
   "outputs": [
    {
     "ename": "AttributeError",
     "evalue": "module 'numpy' has no attribute 'imsave'",
     "output_type": "error",
     "traceback": [
      "\u001b[0;31m---------------------------------------------------------------------------\u001b[0m",
      "\u001b[0;31mAttributeError\u001b[0m                            Traceback (most recent call last)",
      "Cell \u001b[0;32mIn[117], line 1\u001b[0m\n\u001b[0;32m----> 1\u001b[0m \u001b[43mnp\u001b[49m\u001b[38;5;241;43m.\u001b[39;49m\u001b[43mimsave\u001b[49m(\u001b[38;5;124m'\u001b[39m\u001b[38;5;124mlkjwef\u001b[39m\u001b[38;5;124m'\u001b[39m)\n",
      "File \u001b[0;32m~/anaconda3/envs/Torch/lib/python3.10/site-packages/numpy/__init__.py:315\u001b[0m, in \u001b[0;36m__getattr__\u001b[0;34m(attr)\u001b[0m\n\u001b[1;32m    312\u001b[0m     \u001b[38;5;28;01mfrom\u001b[39;00m \u001b[38;5;21;01m.\u001b[39;00m\u001b[38;5;21;01mtesting\u001b[39;00m \u001b[38;5;28;01mimport\u001b[39;00m Tester\n\u001b[1;32m    313\u001b[0m     \u001b[38;5;28;01mreturn\u001b[39;00m Tester\n\u001b[0;32m--> 315\u001b[0m \u001b[38;5;28;01mraise\u001b[39;00m \u001b[38;5;167;01mAttributeError\u001b[39;00m(\u001b[38;5;124m\"\u001b[39m\u001b[38;5;124mmodule \u001b[39m\u001b[38;5;132;01m{!r}\u001b[39;00m\u001b[38;5;124m has no attribute \u001b[39m\u001b[38;5;124m\"\u001b[39m\n\u001b[1;32m    316\u001b[0m                      \u001b[38;5;124m\"\u001b[39m\u001b[38;5;132;01m{!r}\u001b[39;00m\u001b[38;5;124m\"\u001b[39m\u001b[38;5;241m.\u001b[39mformat(\u001b[38;5;18m__name__\u001b[39m, attr))\n",
      "\u001b[0;31mAttributeError\u001b[0m: module 'numpy' has no attribute 'imsave'"
     ]
    }
   ],
   "source": [
    "np.imsave('lkjwef')"
   ]
  },
  {
   "cell_type": "code",
   "execution_count": 108,
   "id": "e6fcfc36",
   "metadata": {},
   "outputs": [
    {
     "name": "stdout",
     "output_type": "stream",
     "text": [
      "False True\n"
     ]
    },
    {
     "data": {
      "image/png": "[encoded data removed]",
      "text/plain": [
       "<Figure size 640x480 with 1 Axes>"
      ]
     },
     "metadata": {},
     "output_type": "display_data"
    }
   ],
   "source": [
    "plt.imshow(img)\n",
    "print(img.min(), img.max())"
   ]
  },
  {
   "cell_type": "code",
   "execution_count": 100,
   "id": "c71e3344",
   "metadata": {},
   "outputs": [
    {
     "data": {
      "text/plain": [
       "array([0., 1.])"
      ]
     },
     "execution_count": 100,
     "metadata": {},
     "output_type": "execute_result"
    }
   ],
   "source": [
    "img_coords[50, 100]\n"
   ]
  },
  {
   "cell_type": "code",
   "execution_count": 125,
   "id": "13fc1e66",
   "metadata": {},
   "outputs": [],
   "source": [
    "from PIL import Image\n",
    "im = Image.fromarray((img*255).astype(np.uint8))\n",
    "im.save(\"../parabola.png\")\n"
   ]
  },
  {
   "cell_type": "code",
   "execution_count": 27,
   "id": "161e1334",
   "metadata": {},
   "outputs": [
    {
     "data": {
      "text/plain": [
       "array([0., 1.])"
      ]
     },
     "execution_count": 27,
     "metadata": {},
     "output_type": "execute_result"
    }
   ],
   "source": [
    "\n",
    "\n"
   ]
  }
 ],
 "metadata": {
  "kernelspec": {
   "display_name": "Python 3 (ipykernel)",
   "language": "python",
   "name": "python3"
  },
  "language_info": {
   "codemirror_mode": {
    "name": "ipython",
    "version": 3
   },
   "file_extension": ".py",
   "mimetype": "text/x-python",
   "name": "python",
   "nbconvert_exporter": "python",
   "pygments_lexer": "ipython3",
   "version": "3.10.8"
  }
 },
 "nbformat": 4,
 "nbformat_minor": 5
}
