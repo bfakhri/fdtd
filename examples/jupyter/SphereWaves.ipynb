{
 "cells": [
  {
   "cell_type": "code",
   "execution_count": 1,
   "id": "1661b238",
   "metadata": {},
   "outputs": [
    {
     "name": "stdout",
     "output_type": "stream",
     "text": [
      "Grid Shape:  (97, 97, 97)\n",
      "torch.Size([17, 17, 17, 3, 3])\n"
     ]
    }
   ],
   "source": [
    "import sys\n",
    "sys.path.append('/home/bij/Projects/fdtd/')\n",
    "import fdtd\n",
    "import fdtd.backend as bd\n",
    "import matplotlib.pyplot as plt\n",
    "from PIL import Image\n",
    "import torch\n",
    "import numpy as np\n",
    "\n",
    "# ## Set Backend\n",
    "fdtd.set_backend(\"torch\")\n",
    "\n",
    "\n",
    "# ## Simulation Constants\n",
    "WAVELENGTH = 1550e-9 # For resolution purposes.\n",
    "SPEED_LIGHT: float = 299_792_458.0  # [m/s] speed of light\n",
    "\n",
    "# Frequency of the brainwaves.\n",
    "BRAIN_FREQ = 3400000000000.0 # Hz\n",
    "\n",
    "\n",
    "grid = fdtd.Grid(\n",
    "    #(6.5e-5, 6.5e-5, 6.5e-5,),\n",
    "    (1.5e-5, 1.5e-5, 1.5e-5,), # Fast version\n",
    "    #(3.5e-5, 3.5e-5, 3.5e-5,),\n",
    "    grid_spacing=0.1 * WAVELENGTH,\n",
    "    permittivity=1.0,\n",
    "    permeability=1.0,\n",
    ")\n",
    "\n",
    "print('Grid Shape: ', grid.shape)\n",
    "\n",
    "\n",
    "\n",
    "# grid[0, :, :] = fdtd.PeriodicBoundary(name=\"xbounds\")\n",
    "grid[0:10, :, :] = fdtd.PML(name=\"pml_xlow\")\n",
    "grid[-10:, :, :] = fdtd.PML(name=\"pml_xhigh\")\n",
    "\n",
    "# grid[:, 0, :] = fdtd.PeriodicBoundary(name=\"ybounds\")\n",
    "grid[:, 0:10, :] = fdtd.PML(name=\"pml_ylow\")\n",
    "grid[:, -10:, :] = fdtd.PML(name=\"pml_yhigh\")\n",
    "\n",
    "grid[:, :, 0:10] = fdtd.PML(name=\"pml_zlow\")\n",
    "grid[:, :, -10:] = fdtd.PML(name=\"pml_zhigh\")\n",
    "\n",
    "grid[40:-40, 40:-40, 40:-40] = fdtd.LearnableAnisotropicObject(permittivity=1.0, is_substrate=False, name=\"cc_substrate\")\n",
    "qx, qy, qz = np.array(grid.objects[0].inverse_permittivity.shape[0:3])//4\n",
    "hx, hy, hz = np.array(grid.objects[0].inverse_permittivity.shape[0:3])//2\n",
    "print(grid.objects[0].inverse_permittivity.shape)"
   ]
  },
  {
   "cell_type": "code",
   "execution_count": 2,
   "id": "f912974f",
   "metadata": {},
   "outputs": [
    {
     "name": "stderr",
     "output_type": "stream",
     "text": [
      "IOPub data rate exceeded.\n",
      "The notebook server will temporarily stop sending output\n",
      "to the client in order to avoid crashing it.\n",
      "To change this limit, set the config variable\n",
      "`--NotebookApp.iopub_data_rate_limit`.\n",
      "\n",
      "Current values:\n",
      "NotebookApp.iopub_data_rate_limit=1000000.0 (bytes/sec)\n",
      "NotebookApp.rate_limit_window=3.0 (secs)\n",
      "\n"
     ]
    }
   ],
   "source": [
    "grid[ hx:hx+2, hy:hy+2, hz:hz+2] = fdtd.LineSource(\n",
    "   period=1.0 / BRAIN_FREQ, name=\"source\", amplitude=0.01,\n",
    ")"
   ]
  },
  {
   "cell_type": "code",
   "execution_count": 3,
   "id": "b9a6a9db",
   "metadata": {},
   "outputs": [
    {
     "name": "stdout",
     "output_type": "stream",
     "text": [
      "torch.Size([17, 17, 17, 3, 3])\n",
      "4 4 4\n",
      "8 8 8\n"
     ]
    }
   ],
   "source": [
    "\n",
    "yl, xl, zl = grid.objects[0].Ny, grid.objects[0].Nx, grid.objects[0].Nz\n",
    "\n",
    "\n",
    "#iimg = torch.from_numpy(image) * 100 + 1\n",
    "iimg = torch.ones_like(grid.objects[0].inverse_permittivity)\n",
    "\n",
    "\n",
    "\n",
    "print(iimg.shape)\n",
    "print(qx, qy, qz)\n",
    "print(hx, hy, hz)\n",
    "\n",
    "iimg[qx:2*qx, qx:2*qx, :] = 0\n",
    "\n",
    "iimg = iimg * 100 + 1\n",
    "\n",
    "\n",
    "grid.objects[0].seed(1.0/iimg)\n",
    "\n",
    "\n",
    "\n",
    "\n",
    "\n"
   ]
  },
  {
   "cell_type": "code",
   "execution_count": 4,
   "id": "c288b995",
   "metadata": {},
   "outputs": [
    {
     "data": {
      "text/plain": [
       "torch.Size([97, 97, 97, 3])"
      ]
     },
     "execution_count": 4,
     "metadata": {},
     "output_type": "execute_result"
    }
   ],
   "source": [
    "grid.sources[0].y\n",
    "grid.E.shape"
   ]
  },
  {
   "cell_type": "code",
   "execution_count": 5,
   "id": "022d7cd3",
   "metadata": {},
   "outputs": [
    {
     "ename": "AttributeError",
     "evalue": "'LineSource' object has no attribute 'profile'",
     "output_type": "error",
     "traceback": [
      "\u001b[0;31m---------------------------------------------------------------------------\u001b[0m",
      "\u001b[0;31mAttributeError\u001b[0m                            Traceback (most recent call last)",
      "Cell \u001b[0;32mIn[5], line 7\u001b[0m\n\u001b[1;32m      5\u001b[0m step \u001b[38;5;241m=\u001b[39m \u001b[38;5;241m0\u001b[39m\n\u001b[1;32m      6\u001b[0m \u001b[38;5;28;01mfor\u001b[39;00m i \u001b[38;5;129;01min\u001b[39;00m \u001b[38;5;28mrange\u001b[39m(\u001b[38;5;241m1000000\u001b[39m):\n\u001b[0;32m----> 7\u001b[0m     \u001b[43mgrid\u001b[49m\u001b[38;5;241;43m.\u001b[39;49m\u001b[43mrun\u001b[49m\u001b[43m(\u001b[49m\u001b[43mvis_steps\u001b[49m\u001b[43m,\u001b[49m\u001b[43m \u001b[49m\u001b[43mprogress_bar\u001b[49m\u001b[38;5;241;43m=\u001b[39;49m\u001b[38;5;28;43;01mFalse\u001b[39;49;00m\u001b[43m)\u001b[49m\n\u001b[1;32m      8\u001b[0m     grid\u001b[38;5;241m.\u001b[39mvisualize(z\u001b[38;5;241m=\u001b[39mhz, norm\u001b[38;5;241m=\u001b[39m\u001b[38;5;124m'\u001b[39m\u001b[38;5;124mlog\u001b[39m\u001b[38;5;124m'\u001b[39m, animate\u001b[38;5;241m=\u001b[39m\u001b[38;5;28;01mTrue\u001b[39;00m, objcolor\u001b[38;5;241m=\u001b[39m(\u001b[38;5;241m0\u001b[39m, \u001b[38;5;241m0\u001b[39m, \u001b[38;5;241m0\u001b[39m, \u001b[38;5;241m0\u001b[39m), objedgecolor\u001b[38;5;241m=\u001b[39m(\u001b[38;5;241m1\u001b[39m,\u001b[38;5;241m1\u001b[39m,\u001b[38;5;241m1\u001b[39m,\u001b[38;5;241m0\u001b[39m), plot_both_fields\u001b[38;5;241m=\u001b[39m\u001b[38;5;28;01mFalse\u001b[39;00m, save\u001b[38;5;241m=\u001b[39m\u001b[38;5;28;01mFalse\u001b[39;00m, folder\u001b[38;5;241m=\u001b[39m\u001b[38;5;124m'\u001b[39m\u001b[38;5;124m./sim_frames/\u001b[39m\u001b[38;5;124m'\u001b[39m, index\u001b[38;5;241m=\u001b[39mi, clean_img\u001b[38;5;241m=\u001b[39m\u001b[38;5;28;01mTrue\u001b[39;00m)\n\u001b[1;32m      9\u001b[0m     plt\u001b[38;5;241m.\u001b[39mshow()\n",
      "File \u001b[0;32m~/Projects/fdtd/fdtd/grid.py:264\u001b[0m, in \u001b[0;36mGrid.run\u001b[0;34m(self, total_time, progress_bar)\u001b[0m\n\u001b[1;32m    262\u001b[0m     time \u001b[38;5;241m=\u001b[39m tqdm(time)\n\u001b[1;32m    263\u001b[0m \u001b[38;5;28;01mfor\u001b[39;00m _ \u001b[38;5;129;01min\u001b[39;00m time:\n\u001b[0;32m--> 264\u001b[0m     \u001b[38;5;28;43mself\u001b[39;49m\u001b[38;5;241;43m.\u001b[39;49m\u001b[43mstep\u001b[49m\u001b[43m(\u001b[49m\u001b[43m)\u001b[49m\n",
      "File \u001b[0;32m~/Projects/fdtd/fdtd/grid.py:270\u001b[0m, in \u001b[0;36mGrid.step\u001b[0;34m(self)\u001b[0m\n\u001b[1;32m    266\u001b[0m \u001b[38;5;28;01mdef\u001b[39;00m \u001b[38;5;21mstep\u001b[39m(\u001b[38;5;28mself\u001b[39m):\n\u001b[1;32m    267\u001b[0m     \u001b[38;5;124;03m\"\"\"do a single FDTD step by first updating the electric field and then\u001b[39;00m\n\u001b[1;32m    268\u001b[0m \u001b[38;5;124;03m    updating the magnetic field\u001b[39;00m\n\u001b[1;32m    269\u001b[0m \u001b[38;5;124;03m    \"\"\"\u001b[39;00m\n\u001b[0;32m--> 270\u001b[0m     \u001b[38;5;28;43mself\u001b[39;49m\u001b[38;5;241;43m.\u001b[39;49m\u001b[43mupdate_E\u001b[49m\u001b[43m(\u001b[49m\u001b[43m)\u001b[49m\n\u001b[1;32m    271\u001b[0m     \u001b[38;5;28mself\u001b[39m\u001b[38;5;241m.\u001b[39mupdate_H()\n\u001b[1;32m    272\u001b[0m     \u001b[38;5;28mself\u001b[39m\u001b[38;5;241m.\u001b[39mtime_steps_passed \u001b[38;5;241m+\u001b[39m\u001b[38;5;241m=\u001b[39m \u001b[38;5;241m1\u001b[39m\n",
      "File \u001b[0;32m~/Projects/fdtd/fdtd/grid.py:294\u001b[0m, in \u001b[0;36mGrid.update_E\u001b[0;34m(self)\u001b[0m\n\u001b[1;32m    292\u001b[0m \u001b[38;5;66;03m# add sources to grid:\u001b[39;00m\n\u001b[1;32m    293\u001b[0m \u001b[38;5;28;01mfor\u001b[39;00m src \u001b[38;5;129;01min\u001b[39;00m \u001b[38;5;28mself\u001b[39m\u001b[38;5;241m.\u001b[39msources:\n\u001b[0;32m--> 294\u001b[0m     \u001b[43msrc\u001b[49m\u001b[38;5;241;43m.\u001b[39;49m\u001b[43mupdate_E\u001b[49m\u001b[43m(\u001b[49m\u001b[43m)\u001b[49m\n\u001b[1;32m    296\u001b[0m \u001b[38;5;66;03m# detect electric field\u001b[39;00m\n\u001b[1;32m    297\u001b[0m \u001b[38;5;28;01mfor\u001b[39;00m det \u001b[38;5;129;01min\u001b[39;00m \u001b[38;5;28mself\u001b[39m\u001b[38;5;241m.\u001b[39mdetectors:\n",
      "File \u001b[0;32m~/Projects/fdtd/fdtd/sources.py:333\u001b[0m, in \u001b[0;36mLineSource.update_E\u001b[0;34m(self)\u001b[0m\n\u001b[1;32m    330\u001b[0m         vect \u001b[38;5;241m=\u001b[39m \u001b[38;5;28mself\u001b[39m\u001b[38;5;241m.\u001b[39mprofile \u001b[38;5;241m*\u001b[39m \u001b[38;5;241m0\u001b[39m\n\u001b[1;32m    331\u001b[0m \u001b[38;5;66;03m# if not pulse\u001b[39;00m\n\u001b[1;32m    332\u001b[0m \u001b[38;5;28;01melse\u001b[39;00m:\n\u001b[0;32m--> 333\u001b[0m     vect \u001b[38;5;241m=\u001b[39m \u001b[38;5;28;43mself\u001b[39;49m\u001b[38;5;241;43m.\u001b[39;49m\u001b[43mprofile\u001b[49m \u001b[38;5;241m*\u001b[39m sin(\u001b[38;5;241m2\u001b[39m \u001b[38;5;241m*\u001b[39m pi \u001b[38;5;241m*\u001b[39m q \u001b[38;5;241m/\u001b[39m \u001b[38;5;28mself\u001b[39m\u001b[38;5;241m.\u001b[39mperiod \u001b[38;5;241m+\u001b[39m \u001b[38;5;28mself\u001b[39m\u001b[38;5;241m.\u001b[39mphase_shift)\n\u001b[1;32m    334\u001b[0m \u001b[38;5;66;03m# do not use list indexing here, as this is much slower especially for torch backend\u001b[39;00m\n\u001b[1;32m    335\u001b[0m \u001b[38;5;66;03m# DISABLED: self.grid.E[self.x, self.y, self.z, 2] = vect\u001b[39;00m\n\u001b[1;32m    336\u001b[0m \u001b[38;5;28;01mfor\u001b[39;00m x, y, z, value \u001b[38;5;129;01min\u001b[39;00m \u001b[38;5;28mzip\u001b[39m(\u001b[38;5;28mself\u001b[39m\u001b[38;5;241m.\u001b[39mx, \u001b[38;5;28mself\u001b[39m\u001b[38;5;241m.\u001b[39my, \u001b[38;5;28mself\u001b[39m\u001b[38;5;241m.\u001b[39mz, vect):\n",
      "\u001b[0;31mAttributeError\u001b[0m: 'LineSource' object has no attribute 'profile'"
     ]
    }
   ],
   "source": [
    "torch.set_grad_enabled(False)\n",
    "#grid.visualize(z=hz, animate=True, norm=\"log\")\n",
    "#vis_steps = 20\n",
    "vis_steps = 15\n",
    "step = 0\n",
    "for i in range(1000000):\n",
    "    grid.run(vis_steps, progress_bar=False)\n",
    "    grid.visualize(z=hz, norm='log', animate=True, objcolor=(0, 0, 0, 0), objedgecolor=(1,1,1,0), plot_both_fields=False, save=False, folder='./sim_frames/', index=i, clean_img=True)\n",
    "    plt.show()\n",
    "    step += vis_steps\n",
    "    print('On step: ', step)\n",
    "x = input('type input to end: ')"
   ]
  },
  {
   "cell_type": "code",
   "execution_count": null,
   "id": "84af578e",
   "metadata": {},
   "outputs": [],
   "source": []
  }
 ],
 "metadata": {
  "kernelspec": {
   "display_name": "Python 3 (ipykernel)",
   "language": "python",
   "name": "python3"
  },
  "language_info": {
   "codemirror_mode": {
    "name": "ipython",
    "version": 3
   },
   "file_extension": ".py",
   "mimetype": "text/x-python",
   "name": "python",
   "nbconvert_exporter": "python",
   "pygments_lexer": "ipython3",
   "version": "3.10.8"
  }
 },
 "nbformat": 4,
 "nbformat_minor": 5
}
