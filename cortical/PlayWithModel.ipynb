{
 "cells": [
  {
   "cell_type": "code",
   "execution_count": 1,
   "id": "c877c2de",
   "metadata": {},
   "outputs": [],
   "source": [
    "import numpy as np\n",
    "import torch\n",
    "from autoencoder import DummyEncoder\n",
    "import matplotlib.pyplot as plt\n"
   ]
  },
  {
   "cell_type": "code",
   "execution_count": 13,
   "id": "b200b94c",
   "metadata": {},
   "outputs": [
    {
     "name": "stdout",
     "output_type": "stream",
     "text": [
      "input img shape:  (2, 32, 32)\n",
      "Activations shaep:  torch.Size([1, 1, 32, 32])\n"
     ]
    },
    {
     "data": {
      "text/plain": [
       "<All keys matched successfully>"
      ]
     },
     "execution_count": 13,
     "metadata": {},
     "output_type": "execute_result"
    }
   ],
   "source": [
    "checkpoint_path = './model_checkpoints/model_000000120000.pt'\n",
    "input_img = np.zeros((2, 32, 32))\n",
    "model = DummyEncoder(grid=None, input_img=input_img)\n",
    "model.load_state_dict(torch.load(checkpoint_path))"
   ]
  },
  {
   "cell_type": "code",
   "execution_count": 14,
   "id": "565995df",
   "metadata": {},
   "outputs": [
    {
     "data": {
      "text/plain": [
       "torch.Size([1, 1, 32, 32])"
      ]
     },
     "execution_count": 14,
     "metadata": {},
     "output_type": "execute_result"
    }
   ],
   "source": [
    "model.cc_activations.shape"
   ]
  },
  {
   "cell_type": "code",
   "execution_count": 35,
   "id": "e7ef40b0",
   "metadata": {},
   "outputs": [
    {
     "ename": "NameError",
     "evalue": "name 'model' is not defined",
     "output_type": "error",
     "traceback": [
      "\u001b[0;31m---------------------------------------------------------------------------\u001b[0m",
      "\u001b[0;31mNameError\u001b[0m                                 Traceback (most recent call last)",
      "Cell \u001b[0;32mIn[35], line 6\u001b[0m\n\u001b[1;32m      3\u001b[0m     npimg \u001b[38;5;241m=\u001b[39m img\u001b[38;5;241m.\u001b[39mnumpy()\n\u001b[1;32m      4\u001b[0m     plt\u001b[38;5;241m.\u001b[39mimshow(np\u001b[38;5;241m.\u001b[39mtranspose(npimg, (\u001b[38;5;241m1\u001b[39m,\u001b[38;5;241m2\u001b[39m,\u001b[38;5;241m0\u001b[39m)), interpolation\u001b[38;5;241m=\u001b[39m\u001b[38;5;124m'\u001b[39m\u001b[38;5;124mNone\u001b[39m\u001b[38;5;124m'\u001b[39m)\n\u001b[0;32m----> 6\u001b[0m show(\u001b[43mmodel\u001b[49m\u001b[38;5;241m.\u001b[39mcc_activations[\u001b[38;5;241m0\u001b[39m]\u001b[38;5;241m.\u001b[39mdetach())\n",
      "\u001b[0;31mNameError\u001b[0m: name 'model' is not defined"
     ]
    }
   ],
   "source": [
    "%matplotlib inline\n",
    "def show(img):\n",
    "    npimg = img.numpy()\n",
    "    plt.imshow(np.transpose(npimg, (1,2,0)), interpolation='None')\n",
    "    \n",
    "show(model.cc_activations[0].detach())"
   ]
  },
  {
   "cell_type": "code",
   "execution_count": 26,
   "id": "e2edfab1",
   "metadata": {},
   "outputs": [
    {
     "ename": "RuntimeError",
     "evalue": "The expanded size of the tensor (4) must match the existing size (3) at non-singleton dimension 1.  Target sizes: [4, 4].  Tensor sizes: [3, 3]",
     "output_type": "error",
     "traceback": [
      "\u001b[0;31m---------------------------------------------------------------------------\u001b[0m",
      "\u001b[0;31mRuntimeError\u001b[0m                              Traceback (most recent call last)",
      "Cell \u001b[0;32mIn[26], line 5\u001b[0m\n\u001b[1;32m      3\u001b[0m x \u001b[38;5;241m=\u001b[39m torch\u001b[38;5;241m.\u001b[39mones((iw,ih))\n\u001b[1;32m      4\u001b[0m y \u001b[38;5;241m=\u001b[39m torch\u001b[38;5;241m.\u001b[39mzeros((iw\u001b[38;5;241m*\u001b[39mdf\u001b[38;5;241m+\u001b[39m\u001b[38;5;241m1\u001b[39m,ih\u001b[38;5;241m*\u001b[39mdf\u001b[38;5;241m+\u001b[39m\u001b[38;5;241m1\u001b[39m))\n\u001b[0;32m----> 5\u001b[0m y[df\u001b[38;5;241m/\u001b[39m\u001b[38;5;241m/\u001b[39m\u001b[38;5;241m2\u001b[39m::df, df\u001b[38;5;241m/\u001b[39m\u001b[38;5;241m/\u001b[39m\u001b[38;5;241m2\u001b[39m::df] \u001b[38;5;241m=\u001b[39m x\n\u001b[1;32m      6\u001b[0m \u001b[38;5;28mprint\u001b[39m(y)\n",
      "\u001b[0;31mRuntimeError\u001b[0m: The expanded size of the tensor (4) must match the existing size (3) at non-singleton dimension 1.  Target sizes: [4, 4].  Tensor sizes: [3, 3]"
     ]
    }
   ],
   "source": [
    "iw, ih = (3,3)\n",
    "df = 1\n",
    "x = torch.ones((iw,ih))\n",
    "y = torch.zeros((iw*df+1,ih*df+1))\n",
    "y[df//2::df, df//2::df] = x\n",
    "print(y)"
   ]
  },
  {
   "cell_type": "code",
   "execution_count": 16,
   "id": "eff3d0f9",
   "metadata": {},
   "outputs": [
    {
     "name": "stdout",
     "output_type": "stream",
     "text": [
      "tensor([[1., 0., 1., 0., 1., 0.],\n",
      "        [0., 1., 0., 1., 0., 1.],\n",
      "        [1., 0., 1., 0., 1., 0.],\n",
      "        [0., 1., 0., 1., 0., 1.],\n",
      "        [1., 0., 1., 0., 1., 0.],\n",
      "        [0., 1., 0., 1., 0., 1.]])\n"
     ]
    }
   ],
   "source": []
  },
  {
   "cell_type": "code",
   "execution_count": 13,
   "id": "2cd94a9e",
   "metadata": {},
   "outputs": [
    {
     "data": {
      "text/plain": [
       "array([1, 3, 5, 7, 9])"
      ]
     },
     "execution_count": 13,
     "metadata": {},
     "output_type": "execute_result"
    }
   ],
   "source": [
    "np.arange(10)[1::2]"
   ]
  },
  {
   "cell_type": "code",
   "execution_count": 54,
   "id": "2006d66e",
   "metadata": {},
   "outputs": [
    {
     "name": "stdout",
     "output_type": "stream",
     "text": [
      "599\n",
      "torch.Size([1, 1, 543, 543])\n"
     ]
    },
    {
     "data": {
      "image/png": "[encoded data removed]",
      "text/plain": [
       "<Figure size 640x480 with 1 Axes>"
      ]
     },
     "metadata": {},
     "output_type": "display_data"
    }
   ],
   "source": [
    "field_img = torch.ones(1, 1, 10,10)\n",
    "kernel = torch.ones(1, 1, 3, 3)\n",
    "stride = 60\n",
    "out = torch.conv_transpose2d(field_img, kernel, bias=None, stride=stride)\n",
    "print(10*stride - 1)\n",
    "print(out.shape)\n",
    "show(out[0])"
   ]
  },
  {
   "cell_type": "code",
   "execution_count": 48,
   "id": "68bcd60c",
   "metadata": {},
   "outputs": [
    {
     "data": {
      "image/png": "[encoded data removed]",
      "text/plain": [
       "<Figure size 640x480 with 1 Axes>"
      ]
     },
     "metadata": {},
     "output_type": "display_data"
    }
   ],
   "source": []
  },
  {
   "cell_type": "code",
   "execution_count": 43,
   "id": "5a5c7da2",
   "metadata": {},
   "outputs": [
    {
     "name": "stdout",
     "output_type": "stream",
     "text": [
      "torch.Size([1, 21, 21])\n"
     ]
    }
   ],
   "source": [
    "print(out[0].shape)"
   ]
  },
  {
   "cell_type": "code",
   "execution_count": 56,
   "id": "b93c997b",
   "metadata": {},
   "outputs": [],
   "source": [
    "# How to calculate the size of a strided conv2d_transpose:\n",
    "# https://stackoverflow.com/questions/63687719/filter-size-and-stride-when-upsampling-image-using-conv2d-transpose"
   ]
  },
  {
   "cell_type": "code",
   "execution_count": null,
   "id": "e06a6446",
   "metadata": {},
   "outputs": [],
   "source": []
  }
 ],
 "metadata": {
  "kernelspec": {
   "display_name": "Python 3 (ipykernel)",
   "language": "python",
   "name": "python3"
  },
  "language_info": {
   "codemirror_mode": {
    "name": "ipython",
    "version": 3
   },
   "file_extension": ".py",
   "mimetype": "text/x-python",
   "name": "python",
   "nbconvert_exporter": "python",
   "pygments_lexer": "ipython3",
   "version": "3.10.8"
  }
 },
 "nbformat": 4,
 "nbformat_minor": 5
}
