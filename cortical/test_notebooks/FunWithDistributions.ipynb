{
 "cells": [
  {
   "cell_type": "code",
   "execution_count": 1,
   "id": "78667f6d",
   "metadata": {},
   "outputs": [],
   "source": [
    "import matplotlib.pyplot as plt\n",
    "import numpy as np\n",
    "import torch"
   ]
  },
  {
   "cell_type": "code",
   "execution_count": 6,
   "id": "981b803f",
   "metadata": {},
   "outputs": [],
   "source": [
    "def softmax(input, t=1.0):\n",
    "  print(\"input\", input)\n",
    "  ex = torch.exp(input/t)\n",
    "  print(\"exp\", ex)\n",
    "  sum = torch.sum(ex, axis=0)\n",
    "  return ex / sum"
   ]
  },
  {
   "cell_type": "code",
   "execution_count": 24,
   "id": "bdd65a5a",
   "metadata": {},
   "outputs": [
    {
     "name": "stdout",
     "output_type": "stream",
     "text": [
      "input tensor([0.4895, 0.8372, 0.1029, 0.0148, 0.5265])\n",
      "exp tensor([3.3999, 8.1099, 1.2933, 1.0378, 3.7298])\n",
      "input tensor([0.4895, 0.8372, 0.1029, 0.0148, 0.5265])\n",
      "exp tensor([1.6315, 2.3100, 1.1084, 1.0149, 1.6931])\n"
     ]
    },
    {
     "data": {
      "text/plain": [
       "Text(0.5, 1.0, 'Salt Added')"
      ]
     },
     "execution_count": 24,
     "metadata": {},
     "output_type": "execute_result"
    },
    {
     "data": {
      "image/png": "[encoded data removed]",
      "text/plain": [
       "<Figure size 640x480 with 2 Axes>"
      ]
     },
     "metadata": {},
     "output_type": "display_data"
    }
   ],
   "source": [
    "# Some example data to display\n",
    "flav_list = ['Turmeric', 'Paprika', 'Garlic', 'Lemon', 'Clove']\n",
    "col_list = ['orange', 'red', 'lightgreen', 'yellow', 'grey']\n",
    "n = len(flav_list)\n",
    "bar_nums = np.arange(n)\n",
    "x = np.random.rand(n)\n",
    "fig, (ax1, ax2) = plt.subplots(1, 2, sharey=True)\n",
    "#fig, (ax1, ax2) = plt.subplots(1, 2, sharey=False)\n",
    "fig.suptitle('Flavor Distributions')\n",
    "plt.xticks(rotation=45)\n",
    "ax1.bar(bar_nums, softmax(torch.Tensor(x), t=0.4), color=col_list)\n",
    "\n",
    "ax1.set_xticks(bar_nums)\n",
    "ax1.set_xticklabels(flav_list, rotation=45)\n",
    "ax1.set_title('No Salt')\n",
    "\n",
    "ax2.bar(bar_nums, softmax(torch.Tensor(x), t=1.0), color=col_list)\n",
    "ax2.set_xticks(bar_nums, flav_list)\n",
    "ax2.set_title('Salt Added')\n",
    "#plt.ylim(0,1)"
   ]
  },
  {
   "cell_type": "code",
   "execution_count": 83,
   "id": "a6af9014",
   "metadata": {},
   "outputs": [
    {
     "name": "stdout",
     "output_type": "stream",
     "text": [
      "tensor([[[[ 0.6100,  0.1370,  0.7099],\n",
      "          [ 0.2027,  0.3068,  0.3869],\n",
      "          [-0.5788, -0.0841,  0.7020]]]])\n",
      "tensor([[[[ 0.1439, -0.0539,  0.1856],\n",
      "          [-0.0264,  0.0171,  0.0506],\n",
      "          [-0.3531, -0.1463,  0.1823]]]])\n",
      "tensor(2.9802e-08)\n",
      "torch.Size([1, 20, 20])\n",
      "torch.Size([1, 19, 19])\n"
     ]
    }
   ],
   "source": [
    "cc_dirs = 2*torch.rand((1, 1, 3, 3)) - 1\n",
    "cc_dirs_z = cc_dirs/torch.sum(cc_dirs) - 1/9\n",
    "print(cc_dirs)\n",
    "print(cc_dirs_z)\n",
    "print(torch.sum(cc_dirs_z))\n",
    "y = torch.conv_transpose2d(torch.ones(1,18,18), 1000*cc_dirs_z)\n",
    "print(y.shape)\n",
    "y_cropped = y[:,1:21, 1:21]\n",
    "print(y_cropped.shape)\n",
    "print(torch.sum(y))\n",
    "print(torch.sum(y_cropped))"
   ]
  },
  {
   "cell_type": "code",
   "execution_count": null,
   "id": "507f8d92",
   "metadata": {},
   "outputs": [],
   "source": []
  },
  {
   "cell_type": "code",
   "execution_count": 100,
   "id": "9b1fa2c6",
   "metadata": {},
   "outputs": [
    {
     "name": "stdout",
     "output_type": "stream",
     "text": [
      "tensor(11.0000)\n",
      "torch.Size([16, 3, 20, 20])\n",
      "tensor(3564000.2500)\n"
     ]
    }
   ],
   "source": [
    "cc_dirs = 2*torch.rand((1, 16, 3, 3, 3)) - 1\n",
    "cc_dirs_z = cc_dirs/torch.sum(cc_dirs, axis=1) - 1.0/cc_dirs[:,0,...].numel()\n",
    "#print(cc_dirs)\n",
    "#print(cc_dirs_z)\n",
    "print(torch.sum(cc_dirs_z))\n",
    "y = torch.conv_transpose3d(torch.ones(1, 1, 18,18), 1000*cc_dirs_z)\n",
    "print(y.shape)\n",
    "print(torch.sum(y))"
   ]
  },
  {
   "cell_type": "code",
   "execution_count": 93,
   "id": "a561cf2d",
   "metadata": {},
   "outputs": [
    {
     "data": {
      "text/plain": [
       "torch.Size([3, 20, 20])"
      ]
     },
     "execution_count": 93,
     "metadata": {},
     "output_type": "execute_result"
    }
   ],
   "source": [
    "cc_dirs = 2*torch.rand((1, 16, 3, 3, 3)) - 1\n",
    "\n",
    "def pbt(acts, field, kernel):\n",
    "    \n",
    "    kernel = kernel/torch.sum(kernel, axis=None) - 1.0/cc_dirs.numel()\n",
    "print(cc_dirs)\n",
    "print(cc_dirs_z)\n",
    "print(torch.sum(cc_dirs_z))\n",
    "y = torch.conv_transpose2d(torch.ones(1,18,18), 1000*cc_dirs_z)\n",
    "    "
   ]
  },
  {
   "cell_type": "code",
   "execution_count": 101,
   "id": "3d7f604e",
   "metadata": {},
   "outputs": [
    {
     "data": {
      "text/plain": [
       "27"
      ]
     },
     "execution_count": 101,
     "metadata": {},
     "output_type": "execute_result"
    }
   ],
   "source": [
    "cc_dirs[:,0,...].numel()"
   ]
  },
  {
   "cell_type": "code",
   "execution_count": null,
   "id": "57573754",
   "metadata": {},
   "outputs": [],
   "source": []
  },
  {
   "cell_type": "code",
   "execution_count": null,
   "id": "eee3eab5",
   "metadata": {},
   "outputs": [],
   "source": []
  }
 ],
 "metadata": {
  "kernelspec": {
   "display_name": "Python 3 (ipykernel)",
   "language": "python",
   "name": "python3"
  },
  "language_info": {
   "codemirror_mode": {
    "name": "ipython",
    "version": 3
   },
   "file_extension": ".py",
   "mimetype": "text/x-python",
   "name": "python",
   "nbconvert_exporter": "python",
   "pygments_lexer": "ipython3",
   "version": "3.10.8"
  }
 },
 "nbformat": 4,
 "nbformat_minor": 5
}
