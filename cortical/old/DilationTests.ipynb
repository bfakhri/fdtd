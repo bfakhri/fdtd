{
 "cells": [
  {
   "cell_type": "code",
   "execution_count": 7,
   "id": "863582d6",
   "metadata": {},
   "outputs": [],
   "source": [
    "import torch\n",
    "import torchvision "
   ]
  },
  {
   "cell_type": "code",
   "execution_count": 13,
   "id": "27534131",
   "metadata": {},
   "outputs": [],
   "source": [
    "Resize = torchvision.transforms.Resize((4,4), interpolation=torchvision.transforms.InterpolationMode.BILINEAR)\n",
    "x = torch.ones(1,2,2)"
   ]
  },
  {
   "cell_type": "code",
   "execution_count": 14,
   "id": "dce876c0",
   "metadata": {},
   "outputs": [
    {
     "data": {
      "text/plain": [
       "tensor([[[1., 1., 1., 1.],\n",
       "         [1., 1., 1., 1.],\n",
       "         [1., 1., 1., 1.],\n",
       "         [1., 1., 1., 1.]]])"
      ]
     },
     "execution_count": 14,
     "metadata": {},
     "output_type": "execute_result"
    }
   ],
   "source": [
    "Resize(x)"
   ]
  },
  {
   "cell_type": "code",
   "execution_count": 42,
   "id": "7886c6e0",
   "metadata": {},
   "outputs": [],
   "source": [
    "y = torch.concat(12*[torch.arange(12)]).reshape(1,1,12,12).float()"
   ]
  },
  {
   "cell_type": "code",
   "execution_count": 43,
   "id": "9c841d2e",
   "metadata": {},
   "outputs": [
    {
     "data": {
      "text/plain": [
       "torch.Size([1, 1, 12, 12])"
      ]
     },
     "execution_count": 43,
     "metadata": {},
     "output_type": "execute_result"
    }
   ],
   "source": [
    "y[:, :, ::2, ::2] += 10\n",
    "y.shape"
   ]
  },
  {
   "cell_type": "code",
   "execution_count": 44,
   "id": "c111f29b",
   "metadata": {},
   "outputs": [],
   "source": [
    "conv7 = torch.nn.Conv2d( 1,  1, kernel_size=4, stride=4)"
   ]
  },
  {
   "cell_type": "code",
   "execution_count": 45,
   "id": "1baa598c",
   "metadata": {},
   "outputs": [
    {
     "data": {
      "text/plain": [
       "torch.Size([1, 1, 3, 3])"
      ]
     },
     "execution_count": 45,
     "metadata": {},
     "output_type": "execute_result"
    }
   ],
   "source": [
    "conv7(y).shape"
   ]
  },
  {
   "cell_type": "code",
   "execution_count": null,
   "id": "3e163134",
   "metadata": {},
   "outputs": [],
   "source": []
  }
 ],
 "metadata": {
  "kernelspec": {
   "display_name": "Python 3 (ipykernel)",
   "language": "python",
   "name": "python3"
  },
  "language_info": {
   "codemirror_mode": {
    "name": "ipython",
    "version": 3
   },
   "file_extension": ".py",
   "mimetype": "text/x-python",
   "name": "python",
   "nbconvert_exporter": "python",
   "pygments_lexer": "ipython3",
   "version": "3.10.8"
  }
 },
 "nbformat": 4,
 "nbformat_minor": 5
}
