{
 "cells": [
  {
   "cell_type": "code",
   "execution_count": null,
   "id": "22bd563a",
   "metadata": {},
   "outputs": [],
   "source": [
    "import torch\n",
    "import numpy as np\n",
    "import cv2\n",
    "import ipywidgets as widgets\n",
    "import asyncio\n",
    "import matplotlib.pyplot as plt\n",
    "import skimage\n",
    "\n",
    "torch.set_grad_enabled(False)"
   ]
  },
  {
   "cell_type": "code",
   "execution_count": null,
   "id": "7d1f9b8e",
   "metadata": {},
   "outputs": [],
   "source": [
    "#screen_h, screen_w = 1440, 2560\n",
    "#screen_h, screen_w = 1440//4, 2560//4\n",
    "screen_h, screen_w = 200, 200\n",
    "\n",
    "\n",
    "if torch.cuda.is_available():\n",
    "    device = torch.device(\"cuda\")\n",
    "    print(\"GPU is available\")\n",
    "else:\n",
    "    device = torch.device(\"cpu\")\n",
    "    print(\"GPU not available, using CPU instead\")\n",
    "\n",
    "\n",
    "def NormalizeEnergy(energy, width=3):\n",
    "    mean = torch.mean(energy.flatten())\n",
    "    std = torch.std(energy.flatten())\n",
    "    h_cutoff = mean + std*width\n",
    "    energy_normed = (torch.clip(energy, 0, h_cutoff))/(h_cutoff)\n",
    "    return energy_normed\n",
    "\n",
    "def NormalizeSine(arr):\n",
    "    return (arr + 1.0)/2.0\n",
    "    \n",
    "def Colorize(arr):\n",
    "    '''\n",
    "    Assumes a tensor of shape (h, w, 1) and outputs \n",
    "    (h, w, (rgb))\n",
    "    '''\n",
    "    # First convert to CIELAB space\n",
    "    lab = np.stack([60*np.ones_like(arr), 128*np.cos(arr), 128*np.sin(arr)], axis=-1)\n",
    "    rgb = skimage.color.lab2rgb(lab)\n",
    "    return rgb\n",
    "    "
   ]
  },
  {
   "cell_type": "code",
   "execution_count": null,
   "id": "dcc3109f",
   "metadata": {},
   "outputs": [],
   "source": []
  },
  {
   "cell_type": "code",
   "execution_count": null,
   "id": "f62a7c8b",
   "metadata": {},
   "outputs": [],
   "source": [
    "# Instantiate convolution dict\n",
    "convs = {}\n",
    "\n",
    "size = 3\n",
    "grow = 3\n",
    "for i in range(5):\n",
    "    conv = torch.nn.Conv2d(1, 1, size, bias=False, padding='same', padding_mode='circular', device=device)\n",
    "    if(i == 0):\n",
    "        k = torch.ones((size, size)).to(device)\n",
    "        k = k /(torch.sum(k) - 1.0)\n",
    "    else:\n",
    "        k = torch.zeros((last_size, last_size)).to(device)\n",
    "        k = torch.nn.functional.pad(k, (grow, grow, grow, grow), value=1.0)\n",
    "        k = k /(torch.sum(k))\n",
    "    \n",
    "    \n",
    "    k[k.shape[0]//2, k.shape[0]//2] = -1\n",
    "    print(size, k.shape, conv.weight.shape, k.sum())\n",
    "    conv.weight = torch.nn.Parameter(k[None, None, ...])\n",
    "    convs[k.shape[0]] = conv\n",
    "    last_size = size\n",
    "    size += grow*2\n",
    "    print(k)"
   ]
  },
  {
   "cell_type": "code",
   "execution_count": null,
   "id": "a2c13b2b",
   "metadata": {},
   "outputs": [],
   "source": [
    "# Init the grid\n",
    "phase = (torch.rand(screen_h, screen_w)*10).to(device)\n",
    "frequency = 0.1\n",
    "t = 0\n",
    "\n",
    "# Coupling constants for each kernel\n",
    "coupling_constants = 0.1*(torch.rand(len(convs.keys())) - 0.5)\n",
    "\n",
    "while True:\n",
    "    # Calculate the oscillator's positions\n",
    "    img_out = torch.sin(frequency*t + phase)\n",
    "    t += 1\n",
    "    # Calculate the errors\n",
    "    error_sum = torch.zeros_like(img_out)\n",
    "    for k_idx, k_key in enumerate(convs):\n",
    "        error = torch.sin(convs[k_key](phase[None, None, ...]))\n",
    "        \n",
    "        error = torch.squeeze(error)\n",
    "        \n",
    "        \n",
    "        error_sum -= error*coupling_constants[k_idx]\n",
    "        print(t, torch.abs(error_sum).mean())\n",
    "    phase += error_sum\n",
    "    \n",
    "    if((t % 10) == 0):\n",
    "        img_out_waves = Colorize(img_out.cpu().detach().numpy())\n",
    "        img_out_phases = Colorize(phase.cpu().detach().numpy())\n",
    "        cv2.imshow('Waves', img_out_waves)\n",
    "        cv2.imshow('Phases', img_out_phases)\n",
    "        cv2.waitKey(1)\n",
    "        \n",
    "        \n"
   ]
  },
  {
   "cell_type": "code",
   "execution_count": null,
   "id": "2987a828",
   "metadata": {},
   "outputs": [],
   "source": []
  },
  {
   "cell_type": "code",
   "execution_count": null,
   "id": "4dba17ce",
   "metadata": {},
   "outputs": [],
   "source": []
  },
  {
   "cell_type": "code",
   "execution_count": null,
   "id": "6ca6f9f1",
   "metadata": {},
   "outputs": [],
   "source": []
  },
  {
   "cell_type": "code",
   "execution_count": null,
   "id": "420a341b",
   "metadata": {},
   "outputs": [],
   "source": []
  },
  {
   "cell_type": "code",
   "execution_count": null,
   "id": "25fd8ab1",
   "metadata": {},
   "outputs": [],
   "source": []
  },
  {
   "cell_type": "code",
   "execution_count": null,
   "id": "b3870805",
   "metadata": {},
   "outputs": [],
   "source": []
  },
  {
   "cell_type": "code",
   "execution_count": null,
   "id": "33120545",
   "metadata": {},
   "outputs": [],
   "source": []
  },
  {
   "cell_type": "code",
   "execution_count": null,
   "id": "b2207a92",
   "metadata": {},
   "outputs": [],
   "source": []
  },
  {
   "cell_type": "code",
   "execution_count": null,
   "id": "7ff675c1",
   "metadata": {},
   "outputs": [],
   "source": []
  },
  {
   "cell_type": "code",
   "execution_count": null,
   "id": "ea387e16",
   "metadata": {},
   "outputs": [],
   "source": []
  },
  {
   "cell_type": "code",
   "execution_count": null,
   "id": "94c993ab",
   "metadata": {},
   "outputs": [],
   "source": []
  },
  {
   "cell_type": "code",
   "execution_count": null,
   "id": "e35dbc3d",
   "metadata": {},
   "outputs": [],
   "source": []
  },
  {
   "cell_type": "code",
   "execution_count": null,
   "id": "5e3a2427",
   "metadata": {},
   "outputs": [],
   "source": []
  },
  {
   "cell_type": "code",
   "execution_count": null,
   "id": "49e72359",
   "metadata": {},
   "outputs": [],
   "source": []
  },
  {
   "cell_type": "code",
   "execution_count": null,
   "id": "04a63e34",
   "metadata": {},
   "outputs": [],
   "source": []
  },
  {
   "cell_type": "code",
   "execution_count": null,
   "id": "0628372f",
   "metadata": {},
   "outputs": [],
   "source": []
  },
  {
   "cell_type": "code",
   "execution_count": null,
   "id": "caa25823",
   "metadata": {},
   "outputs": [],
   "source": []
  }
 ],
 "metadata": {
  "kernelspec": {
   "display_name": "Python 3 (ipykernel)",
   "language": "python",
   "name": "python3"
  },
  "language_info": {
   "codemirror_mode": {
    "name": "ipython",
    "version": 3
   },
   "file_extension": ".py",
   "mimetype": "text/x-python",
   "name": "python",
   "nbconvert_exporter": "python",
   "pygments_lexer": "ipython3",
   "version": "3.10.14"
  }
 },
 "nbformat": 4,
 "nbformat_minor": 5
}
